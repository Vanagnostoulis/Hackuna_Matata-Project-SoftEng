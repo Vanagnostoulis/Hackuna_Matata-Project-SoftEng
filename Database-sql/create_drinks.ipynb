{
 "cells": [
  {
   "cell_type": "code",
   "execution_count": 1,
   "metadata": {},
   "outputs": [],
   "source": [
    "#! /usr/bin/python\n",
    "\n",
    "f = open(\"drinks.txt\", \"r\")\n",
    "f.readline()\n",
    "import json\n",
    "import ast\n",
    "import random\n",
    "\n",
    "\n",
    "\n",
    "ls = ast.literal_eval(f.readline())\n",
    "file = open('drink_insertions.sql','w')\n",
    "file.write('use project;'+'\\n'+'\\n')\n",
    "stores=[i for i in range(1,335)]\n",
    "ingreek = {'beers':'μπύρα', 'wines':'κρασί','rum':'ρούμι','whisky':'whisky','vodka':'vodka','drinks':'ποτό'}\n",
    "i=0\n",
    "for data in ls:\n",
    "    price = data['Cost'].split(',')\n",
    "    cost = ''\n",
    "    for c in price:\n",
    "        cost += c\n",
    "    desc = data['Description'].split()\n",
    "    if desc[-1] == 'ml' or desc[-1] == 'Lt':\n",
    "        if desc[-1] == 'ml':\n",
    "            ml = float(desc[-2])\n",
    "        else:\n",
    "            ml = float(desc[-2])*1000\n",
    "        description = ''\n",
    "        for j in range(len(desc)-2):\n",
    "            description += ' ' + desc[j]\n",
    "        insert_st = \"insert into Drinks(Drink_Id,Category,Name,Price,Ml,Tag,Store_Id)\\n\"\n",
    "        values_st = \"values ({},'{}','{}',{},{},'{}',{});\\n\".format(i+1,ingreek[data['Category']],description,float(cost),ml,data['Tags'],random.choice(stores))\n",
    "    else:\n",
    "        insert_st = \"insert into Drinks(Drink_Id,Category,Name,Price,Tag,Store_Id)\\n\"\n",
    "        values_st = \"values ({},'{}','{}',{},'{}',{});\\n\".format(i+1,ingreek[data['Category']],data['Description'],float(cost),data['Tags'],random.choice(stores))\n",
    "    i+=1\n",
    "    file.write(insert_st)\n",
    "    file.write(values_st)"
   ]
  },
  {
   "cell_type": "code",
   "execution_count": null,
   "metadata": {},
   "outputs": [],
   "source": []
  }
 ],
 "metadata": {
  "kernelspec": {
   "display_name": "Python 3",
   "language": "python",
   "name": "python3"
  },
  "language_info": {
   "codemirror_mode": {
    "name": "ipython",
    "version": 3
   },
   "file_extension": ".py",
   "mimetype": "text/x-python",
   "name": "python",
   "nbconvert_exporter": "python",
   "pygments_lexer": "ipython3",
   "version": "3.7.0"
  }
 },
 "nbformat": 4,
 "nbformat_minor": 2
}
