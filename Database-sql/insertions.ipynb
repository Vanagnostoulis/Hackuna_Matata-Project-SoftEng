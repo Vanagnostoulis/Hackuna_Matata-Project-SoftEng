{
 "cells": [
  {
   "cell_type": "code",
   "execution_count": 36,
   "metadata": {},
   "outputs": [
    {
     "name": "stdout",
     "output_type": "stream",
     "text": [
      "(224, 8)\n",
      "nan\n"
     ]
    }
   ],
   "source": [
    "#read files\n",
    "import pandas as pd\n",
    "import numpy as np\n",
    "\n",
    "filename = \"liquor_stores.csv\"\n",
    "df = pd.read_csv(filename, header = None)\n",
    "#df.head()\n",
    "print(df.shape)\n",
    "name = df.iloc[:, 0]  \n",
    "phone = df.iloc[:, 1]\n",
    "longtitude = df.iloc[:, 2]\n",
    "latitude = df.iloc[:, 3]\n",
    "postal_code = df.iloc[:, 4]\n",
    "region = df.iloc[:, 5]\n",
    "street = df.iloc[:, 6]\n",
    "num = df.iloc[:, 7]\n",
    "\n",
    "print(phone[26])\n",
    "\n"
   ]
  },
  {
   "cell_type": "code",
   "execution_count": 37,
   "metadata": {},
   "outputs": [],
   "source": [
    "def isNaN(num):\n",
    "    return num != num\n",
    "\n",
    "file = open('my_insertions.sql','w')\n",
    "file.write('use project;'+'\\n'+'\\n')\n",
    "\n",
    "for i in range(len(name)):\n",
    "    insert_st = \"insert into Store(Type,Store_Id,Name,Longtitude,Latitude\"\n",
    "    values_st = \"values ('Liquor Store',\"\n",
    "    \n",
    "    values_st += \"{},'{}',{},{}\".format(i+1,name[i],float(longtitude[i]),float(latitude[i]))\n",
    "    if (phone[i]!= ' ' and not isNaN(phone[i])):\n",
    "        insert_st += ',Phone_Num'\n",
    "        values_st += \",'{}'\".format(phone[i])\n",
    "    insert_st += ')'\n",
    "    values_st += ');'\n",
    "        \n",
    "    file.write(insert_st+'\\n')\n",
    "    file.write(values_st+'\\n')\n",
    "    \n",
    "file.write('\\n')    \n",
    "for i in range(len(name)):\n",
    "    insert_ad = \"insert into Store_Address (Store_Id,Street\"\n",
    "    values_ad = \"values (\"  \n",
    "    \n",
    "    values_ad += \"{},'{}'\".format(i+1,street[i])\n",
    "    if (num[i]!= ' ' and not isNaN(num[i])):\n",
    "        n=int(num[i])\n",
    "        insert_ad += ',Num'\n",
    "        values_ad += \",{}\".format(n)\n",
    "    if (postal_code[i]!= ' ' and not isNaN(postal_code[i])):\n",
    "        p=int(postal_code[i])\n",
    "        insert_ad += ',Postal_Code'\n",
    "        values_ad += \",{}\".format(p)\n",
    "    insert_ad += ',Region)'\n",
    "    values_ad += \",'{}');\".format(region[i])  \n",
    "    \n",
    "    file.write(insert_ad+'\\n')\n",
    "    file.write(values_ad+'\\n')\n"
   ]
  },
  {
   "cell_type": "code",
   "execution_count": 38,
   "metadata": {},
   "outputs": [
    {
     "name": "stdout",
     "output_type": "stream",
     "text": [
      "(50, 8)\n"
     ]
    }
   ],
   "source": [
    "filename = \"kiosks.csv\"\n",
    "df = pd.read_csv(filename, header = None)\n",
    "#df.head()\n",
    "print(df.shape)\n",
    "\n",
    "postal_code = df.iloc[:, 4]\n",
    "region = df.iloc[:, 5]\n",
    "street = df.iloc[:, 6]\n",
    "num = df.iloc[:, 7]"
   ]
  },
  {
   "cell_type": "code",
   "execution_count": 39,
   "metadata": {},
   "outputs": [
    {
     "name": "stdout",
     "output_type": "stream",
     "text": [
      "224 224\n"
     ]
    }
   ],
   "source": [
    "j=i+1\n",
    "print(j,len(name))\n",
    "file.write('\\n')   \n",
    "for i in range(len(street)):\n",
    "    insert_st = \"insert into Store(Type,Store_Id,Longtitude,Latitude\"\n",
    "    values_st = \"values ('Kiosk',\"\n",
    "    \n",
    "    values_st += \"{},{},{}\".format(i+1+j,float(longtitude[i]),float(latitude[i]))\n",
    "    insert_st += ')'\n",
    "    values_st += ');'\n",
    "        \n",
    "    file.write(insert_st+'\\n')\n",
    "    file.write(values_st+'\\n')\n",
    "    \n",
    "file.write('\\n')    \n",
    "for i in range(len(street)):\n",
    "    insert_ad = \"insert into Store_Address (Store_Id,Street\"\n",
    "    values_ad = \"values (\"  \n",
    "    \n",
    "    values_ad += \"{},'{}'\".format(i+1+j,street[i])\n",
    "    if (num[i]!= ' ' and not isNaN(num[i])):\n",
    "        n=int(num[i])\n",
    "        insert_ad += ',Num'\n",
    "        values_ad += \",{}\".format(n)\n",
    "    if (postal_code[i]!= ' ' and not isNaN(postal_code[i])):\n",
    "        p=int(postal_code[i])\n",
    "        insert_ad += ',Postal_Code'\n",
    "        values_ad += \",{}\".format(p)\n",
    "    insert_ad += ',Region)'\n",
    "    values_ad += \",'{}');\".format(region[i])  \n",
    "    \n",
    "    file.write(insert_ad+'\\n')\n",
    "    file.write(values_ad+'\\n')\n",
    "    \n",
    "file.close()"
   ]
  },
  {
   "cell_type": "code",
   "execution_count": null,
   "metadata": {},
   "outputs": [],
   "source": []
  }
 ],
 "metadata": {
  "kernelspec": {
   "display_name": "Python 3",
   "language": "python",
   "name": "python3"
  },
  "language_info": {
   "codemirror_mode": {
    "name": "ipython",
    "version": 3
   },
   "file_extension": ".py",
   "mimetype": "text/x-python",
   "name": "python",
   "nbconvert_exporter": "python",
   "pygments_lexer": "ipython3",
   "version": "3.7.0"
  }
 },
 "nbformat": 4,
 "nbformat_minor": 2
}
